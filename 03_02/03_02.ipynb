{
 "cells": [
  {
   "cell_type": "markdown",
   "id": "62b685c1-fe44-4f01-b9e3-5808cf10752f",
   "metadata": {},
   "source": [
    "# Chat With Your Data\n",
    "\n",
    "## Perform Semantic Search"
   ]
  },
  {
   "cell_type": "markdown",
   "id": "6bed94b7-d5da-4c5b-a812-25ecbb1601a6",
   "metadata": {},
   "source": [
    "# Install libraries"
   ]
  },
  {
   "cell_type": "code",
   "execution_count": null,
   "id": "603889ff-e355-4c9e-929a-45e8150aa0f7",
   "metadata": {},
   "outputs": [],
   "source": [
    "pip install openai"
   ]
  },
  {
   "cell_type": "code",
   "execution_count": null,
   "id": "759ae117-0aa2-4c09-b5bd-7ce1e106ada2",
   "metadata": {},
   "outputs": [],
   "source": [
    "pip install python-dotenv"
   ]
  },
  {
   "cell_type": "code",
   "execution_count": null,
   "id": "dd511c5a",
   "metadata": {},
   "outputs": [],
   "source": [
    "pip install langchain"
   ]
  },
  {
   "cell_type": "code",
   "execution_count": null,
   "id": "ca531938",
   "metadata": {},
   "outputs": [],
   "source": [
    "pip install langchain-openai"
   ]
  },
  {
   "cell_type": "code",
   "execution_count": null,
   "id": "4a1839e2",
   "metadata": {},
   "outputs": [],
   "source": [
    "pip install pypdf"
   ]
  },
  {
   "cell_type": "code",
   "execution_count": null,
   "id": "69c527ad",
   "metadata": {},
   "outputs": [],
   "source": [
    "pip install faiss-cpu"
   ]
  },
  {
   "cell_type": "code",
   "execution_count": null,
   "id": "5f9fcee4",
   "metadata": {},
   "outputs": [],
   "source": [
    "pip install langchainhub"
   ]
  },
  {
   "cell_type": "code",
   "execution_count": null,
   "id": "5f9fcee4",
   "metadata": {},
   "outputs": [],
   "source": [
    "pip install langchain-community"
   ]
  },
  {
   "cell_type": "markdown",
   "id": "1ee3fe67-bad1-4305-bdfc-0a9ed449fb99",
   "metadata": {},
   "source": [
    "## Helper functions"
   ]
  },
  {
   "cell_type": "code",
   "execution_count": 21,
   "id": "02e20f83",
   "metadata": {},
   "outputs": [
    {
     "data": {
      "text/plain": [
       "Document(metadata={'source': '../Data/botanical.pdf', 'page': 2}, page_content='Aetherfloris Ventus Aetherfloris Ventus embodies the essence of the sky, with petals lighter than air itself, appearing to float freely, untethered by the bonds of gravity. This celestial flora is said to have originated from the breath of the winds, nurtured by the whispers of the clouds. It is a plant of such ethereal beauty that many believe it to exist only within the realm of dreams, a fleeting vision of weightlessness and freedom. The stem of Aetherfloris Ventus is nearly invisible, as thin as a wisp of mist, yet surprisingly strong. It dances with the breeze, leading the petals in a delicate ballet that captivates all who witness it. This spectral display has inspired countless myths and legends, tales of plants that could carry messages between distant lovers or guide the souls of the departed to the heavens. Its existence challenges our understanding of the natural world, blurring the lines between the tangible and the intangible. In the realm of alchemy, Aetherfloris Ventus is a treasure beyond measure. Its essence, captured in rare vials, is said to bestow the gift of lightness upon those')"
      ]
     },
     "execution_count": 21,
     "metadata": {},
     "output_type": "execute_result"
    }
   ],
   "source": [
    "docs[0]"
   ]
  },
  {
   "cell_type": "code",
   "execution_count": 22,
   "id": "b694cfeb-1653-4555-84ce-875b3885150f",
   "metadata": {},
   "outputs": [],
   "source": [
    "def print_output(docs):\n",
    "    import textwrap\n",
    "    for doc in docs:\n",
    "        #print('The output is: {}. \\n\\nThe metadata is {} \\n\\n'.format(doc.page_content, doc.metadata))\n",
    "        print('The medatadata is: {}'.format(doc.metadata))\n",
    "        for t in textwrap.wrap(doc.page_content,width=100):\n",
    "            print(t)    "
   ]
  },
  {
   "cell_type": "markdown",
   "id": "3ef23fe7-5c16-4f30-97e4-b679c75e716d",
   "metadata": {},
   "source": [
    "## Load OpenAI API Key"
   ]
  },
  {
   "cell_type": "code",
   "execution_count": 2,
   "id": "77f69144-98d1-46a1-94be-8eea00065278",
   "metadata": {},
   "outputs": [],
   "source": [
    "import os\n",
    "\n",
    "from dotenv import load_dotenv, find_dotenv\n",
    "_ = load_dotenv(find_dotenv()) # read local .env file\n",
    "\n",
    "OPENAI_API_KEY=os.environ['OPENAI_API_KEY']"
   ]
  },
  {
   "cell_type": "markdown",
   "id": "cafecdae-eaf9-471f-b69d-9b1c3ac0b9d2",
   "metadata": {},
   "source": [
    "## Load vector database from disk"
   ]
  },
  {
   "cell_type": "code",
   "execution_count": 3,
   "id": "0788aef1-0fe8-4205-ba3d-741bb5cf392a",
   "metadata": {},
   "outputs": [],
   "source": [
    "from langchain_openai import OpenAIEmbeddings\n",
    "from langchain_community.vectorstores import FAISS\n",
    "\n",
    "\n",
    "db = FAISS.load_local(\"../faiss_index\", \n",
    "                      OpenAIEmbeddings(openai_api_key=OPENAI_API_KEY, model=\"text-embedding-3-small\"), \n",
    "                      allow_dangerous_deserialization=True)"
   ]
  },
  {
   "cell_type": "markdown",
   "id": "94184d22-46ad-45e7-8a00-38c298b7e607",
   "metadata": {},
   "source": [
    "## Perform semantic search"
   ]
  },
  {
   "cell_type": "code",
   "execution_count": 4,
   "id": "82dd70e3-e3ca-4b2d-a238-3ed466e41618",
   "metadata": {},
   "outputs": [],
   "source": [
    "docs = db.similarity_search(\"What is Aetherfloris Ventus\")"
   ]
  },
  {
   "cell_type": "code",
   "execution_count": 5,
   "id": "54c02003-3a39-41a7-bbc1-a22b70ca5c3a",
   "metadata": {},
   "outputs": [
    {
     "data": {
      "text/plain": [
       "4"
      ]
     },
     "execution_count": 5,
     "metadata": {},
     "output_type": "execute_result"
    }
   ],
   "source": [
    "#length of search results returned\n",
    "len(docs)"
   ]
  },
  {
   "cell_type": "code",
   "execution_count": 23,
   "id": "e773f890",
   "metadata": {},
   "outputs": [
    {
     "name": "stdout",
     "output_type": "stream",
     "text": [
      "The medatadata is: {'source': '../Data/botanical.pdf', 'page': 2}\n",
      "Aetherfloris Ventus Aetherfloris Ventus embodies the essence of the sky, with petals lighter than\n",
      "air itself, appearing to float freely, untethered by the bonds of gravity. This celestial flora is\n",
      "said to have originated from the breath of the winds, nurtured by the whispers of the clouds. It is\n",
      "a plant of such ethereal beauty that many believe it to exist only within the realm of dreams, a\n",
      "fleeting vision of weightlessness and freedom. The stem of Aetherfloris Ventus is nearly invisible,\n",
      "as thin as a wisp of mist, yet surprisingly strong. It dances with the breeze, leading the petals in\n",
      "a delicate ballet that captivates all who witness it. This spectral display has inspired countless\n",
      "myths and legends, tales of plants that could carry messages between distant lovers or guide the\n",
      "souls of the departed to the heavens. Its existence challenges our understanding of the natural\n",
      "world, blurring the lines between the tangible and the intangible. In the realm of alchemy,\n",
      "Aetherfloris Ventus is a treasure beyond measure. Its essence, captured in rare vials, is said to\n",
      "bestow the gift of lightness upon those\n",
      "The medatadata is: {'source': '../Data/botanical.pdf', 'page': 3}\n",
      "4   who partake. A single drop can lift the spirits, freeing the mind from the burdens of the\n",
      "earthly plane, encouraging thoughts to soar and dreams to take flight. Yet, the true nature of\n",
      "Aetherfloris Ventus eludes even the most dedicated seekers, a reminder of the mysteries that the\n",
      "natural world holds, waiting to be discovered.\n",
      "The medatadata is: {'source': '../Data/botanical.pdf', 'page': 2}\n",
      "3  navigate the labyrinth of dreams, revealing the mysteries that lie in the heart of night. Yet,\n",
      "for all its power, Noctis Umbraherba remains shrouded in mystery, a whispered legend in the world of\n",
      "botany.     A delicate, ethereal plant with petals as thin as air, seemingly floating without\n",
      "support. • Petala aerea: Petala leviora aere, in vento fluitant. • Caulis invisus: Caulis vix\n",
      "visibilis, auras sequens et ducens. • Usus: Aetheris extractum levitatem inducit, corporis et\n",
      "mentis.\n",
      "The medatadata is: {'source': '../Data/botanical.pdf', 'page': 0}\n",
      "Botanical Section Botanixum Sectiorum Arcanix   A peculiar plant with spiraling leaves and vibrant\n",
      "blue flowers that seem to emit a faint glow in moonlight. • Holoris spiralis: In lumine lunae,\n",
      "flores azuri magni brillant. • Radices mysticae: Radices intortae terram quaerunt, lumina nocturna\n",
      "sequentes. • Usus: Extractum florae noctem illuminat, mentem serenat.\n"
     ]
    }
   ],
   "source": [
    "print_output(docs)\n"
   ]
  },
  {
   "cell_type": "code",
   "execution_count": 24,
   "id": "7f32d671-027e-4d18-a86b-d9553d9f29ec",
   "metadata": {},
   "outputs": [],
   "source": [
    "#Search the culinary section\n",
    "docs = db.similarity_search(\"Can you recommend a herbal brew?\")"
   ]
  },
  {
   "cell_type": "code",
   "execution_count": 25,
   "id": "811b8395-5b57-4632-8ef3-53b6e0896c19",
   "metadata": {},
   "outputs": [
    {
     "data": {
      "text/plain": [
       "4"
      ]
     },
     "execution_count": 25,
     "metadata": {},
     "output_type": "execute_result"
    }
   ],
   "source": [
    "#length of search results returned\n",
    "len(docs)"
   ]
  },
  {
   "cell_type": "code",
   "execution_count": 26,
   "id": "53d6153b-9b5f-4224-9433-2b6518466a76",
   "metadata": {},
   "outputs": [
    {
     "name": "stdout",
     "output_type": "stream",
     "text": [
      "The medatadata is: {'source': '../Data/culinary.pdf', 'page': 1}\n",
      "Herbal Brews and Potions Herbal Mastery This page details the preparation of various herbal brews\n",
      "and potions, each carefully crafted to enhance health, vitality, or even spiritual well-being. The\n",
      "illustrations provide a detailed look at the herbs used, their proportions, and the methods of\n",
      "preparation, from simple infusions to complex concoctions requiring precise timing and conditions.\n",
      "Each potion is associated with specific effects, such as boosting energy, calming nerves, or curing\n",
      "diseases.  Alchemy of Flavors The potions blend the alchemy of flavors with practical pharmacology,\n",
      "embodying the ancient belief in the power of plants to affect body and mind. This section might\n",
      "reveal the manuscript's deeper layers, where culinary practice meets mysticism, and each brew is as\n",
      "much a spiritual ritual as a physical remedy. The cryptic annotations could hint at lost knowledge\n",
      "of herbal properties, passed down through generations of healers.  Cultural and Medicinal Insights\n",
      "Beyond their immediate use, these brews offer insights into the cultural attitudes towards healing\n",
      "and magic. The\n",
      "The medatadata is: {'source': '../Data/pharmaceutical.pdf', 'page': 0}\n",
      "Herbal Remedies Diverse Medicinal Properties The Herbal Remedies section of the manuscript is a\n",
      "colorful compendium of various herbs, each illustrated with remarkable detail, suggesting their use\n",
      "in treating ailments. These plants are not just botanically accurate; they seem to carry specific\n",
      "annotations about their healing properties, whether it's soothing pain, curing infections, or\n",
      "enhancing vitality. The detailed depictions serve as a bridge between ancient botanical knowledge\n",
      "and the mysterious lore surrounding herbal medicine.  Cultural and Historical Significance The herbs\n",
      "depicted often have a dual role in both culinary and medicinal practices, indicating their\n",
      "importance across various cultures and epochs. These illustrations may provide insights into the\n",
      "dietary and health practices of the time, revealing how herbs were integral to daily life and\n",
      "survival. The manuscript possibly doubles as a practical guide and a pharmacopeial treasure,\n",
      "preserving knowledge that might have otherwise been lost through the ages.  Pharmacological\n",
      "Applications The annotations likely include recipes for concoctions and mixtures, detailing ratios\n",
      "and preparation methods that\n",
      "The medatadata is: {'source': '../Data/culinary.pdf', 'page': 1}\n",
      "2  detailed illustrations may include preparation methods, showcasing ancient culinary techniques\n",
      "that have been lost or evolved over time. This page serves as both a historical record and an\n",
      "invitation to rediscover and perhaps reinvent these ancient culinary arts.     Detailed drawings of\n",
      "herbal brews and potions, each with specific effects, such as enhancing stamina or curing maladies.\n",
      "Infusiones herbarum ad vires augendas et morbos sanandos.\n",
      "The medatadata is: {'source': '../Data/pharmaceutical.pdf', 'page': 1}\n",
      "2  enhance the efficacy of the herbs. These might have been used by healers and early pharmacists,\n",
      "who would need to understand both the properties of individual herbs and the synergistic effects\n",
      "when combined. This knowledge is invaluable for understanding the evolution of pharmaceutical\n",
      "sciences and the historical context of herbal remedies.     Detailed depictions of toxic plants,\n",
      "annotated with warnings and antidotes, hinting at their dangerous properties and their roles in\n",
      "ancient medicine.  Plantae toxicas, periculosas proprietates ostendentes, cum antidotis descriptae..\n"
     ]
    }
   ],
   "source": [
    "print_output(docs)"
   ]
  },
  {
   "cell_type": "code",
   "execution_count": 27,
   "id": "9f1fae51-26ff-4484-a8b0-8d0170c4949c",
   "metadata": {},
   "outputs": [],
   "source": [
    "#Search the astronomical section\n",
    "docs = db.similarity_search(\"What is the orbit of the sun-like figure?\")"
   ]
  },
  {
   "cell_type": "code",
   "execution_count": 28,
   "id": "0c5322dd-b5a4-49e1-8653-bfe023e1c6d4",
   "metadata": {},
   "outputs": [
    {
     "data": {
      "text/plain": [
       "4"
      ]
     },
     "execution_count": 28,
     "metadata": {},
     "output_type": "execute_result"
    }
   ],
   "source": [
    "#length of search results returned\n",
    "len(docs)"
   ]
  },
  {
   "cell_type": "code",
   "execution_count": 29,
   "id": "17c3754b-aa0c-4678-b2b1-c044cab505d2",
   "metadata": {},
   "outputs": [
    {
     "name": "stdout",
     "output_type": "stream",
     "text": [
      "The medatadata is: {'source': '../Data/astronomical.pdf', 'page': 0}\n",
      "Astronomical Section Astronomica Scripta Mysteria   A complex celestial chart depicting the orbits\n",
      "of various heavenly bodies around a central, sun-like figure, marked with symbols that may represent\n",
      "different astral energies. In medio orbis, solis effigiem auream cernimus, circum quam planetarum\n",
      "choreae gravitant. Hic mundi microcosmus, stellarum potentias et astrorum cursus mysterio plenus,\n",
      "nocturni speculatores ad infinitum ducit.\n",
      "The medatadata is: {'source': '../Data/astronomical.pdf', 'page': 0}\n",
      "Celestis Orbis Celestial Dynamics At the heart of the Celestis Orbis is a grand celestial diagram, a\n",
      "golden sun encircled by meticulously charted planets and moons. This map not only showcases the\n",
      "orbits but also highlights the harmonious dance of celestial bodies through the cosmos. Observers of\n",
      "this map are granted a visual symphony of planetary alignments and retrogrades, each movement\n",
      "meticulously noted for its impact on both earthly and astral realms.  Symbolic Annotations\n",
      "Surrounding the central depiction are various annotations, symbols that may have been used to record\n",
      "specific celestial events or to note the energy influences exerted by these bodies. These\n",
      "annotations serve as a cryptic guide, potentially useful for ancient astronomers and astrologers who\n",
      "sought understanding of how celestial mechanics directly influenced terrestrial life and spiritual\n",
      "matters.  Interpretive Mysteries The true depth of Celestis Orbis lies in its potential to unlock\n",
      "ancient cosmic knowledge. Scholars and mystics alike may interpret the complex interrelations\n",
      "depicted here as a cosmic clock or a calendar, providing insights into timekeeping and the\n",
      "calculation of seasons, essential for\n",
      "The medatadata is: {'source': '../Data/astronomical.pdf', 'page': 1}\n",
      "2  agricultural and ritual purposes. The intertwining of celestial paths offers a puzzle that has\n",
      "challenged viewers for centuries, beckoning modern interpreters to uncover its secrets.     Detailed\n",
      "drawings of the moon in various phases, each linked to specific botanical and pharmaceutical\n",
      "properties as per ancient lore.  Lunae facies, in caelesti scena variabilis, herbarum crescendi\n",
      "artes et veneficium influent. Phasae lunares, a nova ad plenam, medicamentorum preparationem et\n",
      "magicae practicae fundamentum afficiunt.\n",
      "The medatadata is: {'source': '../Data/cosmological.pdf', 'page': 0}\n",
      "Cosmic Wheels Intricate Celestial Mechanics The Cosmic Wheels page features a series of elaborate\n",
      "diagrams that represent the interconnected movements of celestial bodies within the universe. These\n",
      "wheels are not just artistic renderings but are thought to symbolize the complex astronomical cycles\n",
      "governing the heavens. Each wheel is meticulously detailed, showing paths that might represent\n",
      "planetary orbits, lunar cycles, or the greater cosmic order that binds them all together.\n",
      "Philosophical and Mystical Significance Beyond their astronomical significance, these cosmic wheels\n",
      "are deeply rooted in the philosophical beliefs of the time. They likely serve as metaphors for the\n",
      "cycles of life and death, creation and destruction, reflecting a worldview where the cosmos is seen\n",
      "as a living, breathing entity. This symbology invites viewers to ponder the larger existential\n",
      "questions of fate and destiny, influenced by the celestial gears that turn the universe.  Guides for\n",
      "Navigation and Timekeeping Historically, such diagrams could have practical applications in\n",
      "navigation and the calendar systems\n"
     ]
    }
   ],
   "source": [
    "print_output(docs)"
   ]
  },
  {
   "cell_type": "code",
   "execution_count": null,
   "id": "cd318e9a-a2ef-40f7-8581-411a3c9a3240",
   "metadata": {},
   "outputs": [],
   "source": []
  }
 ],
 "metadata": {
  "kernelspec": {
   "display_name": "Python 3",
   "language": "python",
   "name": "python3"
  },
  "language_info": {
   "codemirror_mode": {
    "name": "ipython",
    "version": 3
   },
   "file_extension": ".py",
   "mimetype": "text/x-python",
   "name": "python",
   "nbconvert_exporter": "python",
   "pygments_lexer": "ipython3",
   "version": "3.12.1"
  }
 },
 "nbformat": 4,
 "nbformat_minor": 5
}
