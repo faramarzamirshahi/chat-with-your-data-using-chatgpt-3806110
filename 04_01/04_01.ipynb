{
 "cells": [
  {
   "cell_type": "markdown",
   "id": "62b685c1-fe44-4f01-b9e3-5808cf10752f",
   "metadata": {},
   "source": [
    "# Chat With Your Data\n",
    "\n",
    "## Build prompt chains with retrievers"
   ]
  },
  {
   "cell_type": "markdown",
   "id": "6bed94b7-d5da-4c5b-a812-25ecbb1601a6",
   "metadata": {},
   "source": [
    "# Install libraries"
   ]
  },
  {
   "cell_type": "code",
   "execution_count": null,
   "id": "603889ff-e355-4c9e-929a-45e8150aa0f7",
   "metadata": {},
   "outputs": [],
   "source": [
    "pip install openai"
   ]
  },
  {
   "cell_type": "code",
   "execution_count": null,
   "id": "759ae117-0aa2-4c09-b5bd-7ce1e106ada2",
   "metadata": {},
   "outputs": [],
   "source": [
    "pip install python-dotenv"
   ]
  },
  {
   "cell_type": "code",
   "execution_count": null,
   "id": "dd511c5a",
   "metadata": {},
   "outputs": [],
   "source": [
    "pip install langchain"
   ]
  },
  {
   "cell_type": "code",
   "execution_count": null,
   "id": "ca531938",
   "metadata": {},
   "outputs": [],
   "source": [
    "pip install langchain-openai"
   ]
  },
  {
   "cell_type": "code",
   "execution_count": null,
   "id": "4a1839e2",
   "metadata": {},
   "outputs": [],
   "source": [
    "pip install pypdf"
   ]
  },
  {
   "cell_type": "code",
   "execution_count": null,
   "id": "69c527ad",
   "metadata": {},
   "outputs": [],
   "source": [
    "pip install faiss-cpu"
   ]
  },
  {
   "cell_type": "code",
   "execution_count": null,
   "id": "5f9fcee4",
   "metadata": {},
   "outputs": [],
   "source": [
    "pip install langchainhub"
   ]
  },
  {
   "cell_type": "code",
   "execution_count": null,
   "id": "5f9fcee4",
   "metadata": {},
   "outputs": [],
   "source": [
    "pip install langchain-community"
   ]
  },
  {
   "cell_type": "markdown",
   "id": "1ee3fe67-bad1-4305-bdfc-0a9ed449fb99",
   "metadata": {},
   "source": [
    "## Helper functions"
   ]
  },
  {
   "cell_type": "code",
   "execution_count": 43,
   "id": "b694cfeb-1653-4555-84ce-875b3885150f",
   "metadata": {},
   "outputs": [],
   "source": [
    "def print_output(docs,type:int=1):\n",
    "    import textwrap\n",
    "    match type:\n",
    "        case 1:\n",
    "            for doc in docs:\n",
    "                print('The medatadata is: {}'.format(doc.metadata))\n",
    "                for t in textwrap.wrap(doc.page_content,width=100):\n",
    "                    print(t)\n",
    "        case 2:\n",
    "            #print('The medatadata is: {}'.format(docs.response_metadata))\n",
    "            for t in textwrap.wrap(docs.content,width=100):\n",
    "                print(t)\n"
   ]
  },
  {
   "cell_type": "markdown",
   "id": "3ef23fe7-5c16-4f30-97e4-b679c75e716d",
   "metadata": {},
   "source": [
    "## Load OpenAI API Key"
   ]
  },
  {
   "cell_type": "code",
   "execution_count": 2,
   "id": "77f69144-98d1-46a1-94be-8eea00065278",
   "metadata": {},
   "outputs": [],
   "source": [
    "import os\n",
    "\n",
    "from dotenv import load_dotenv, find_dotenv\n",
    "_ = load_dotenv(find_dotenv()) # read local .env file\n",
    "\n",
    "OPENAI_API_KEY=os.environ['OPENAI_API_KEY']"
   ]
  },
  {
   "cell_type": "markdown",
   "id": "959501e7-3a7c-456e-93f1-0561979e81c4",
   "metadata": {},
   "source": [
    "## Prompt model with no knowledge of the Voynich manuscript"
   ]
  },
  {
   "cell_type": "code",
   "execution_count": 3,
   "id": "c71c0d74-1911-4082-8bc2-c930607fb800",
   "metadata": {},
   "outputs": [],
   "source": [
    "from langchain_openai import ChatOpenAI\n",
    "\n",
    "#initialize the LLM we'll use - OpenAI GPT 3.5 Turbo\n",
    "llm = ChatOpenAI(openai_api_key=OPENAI_API_KEY, model=\"gpt-3.5-turbo-0125\")"
   ]
  },
  {
   "cell_type": "code",
   "execution_count": 42,
   "id": "67a63a96-ddfb-4beb-a699-d2c035ae67cb",
   "metadata": {},
   "outputs": [
    {
     "name": "stdout",
     "output_type": "stream",
     "text": [
      "The medatadata is: {'token_usage': {'completion_tokens': 184, 'prompt_tokens': 19, 'total_tokens': 203, 'completion_tokens_details': {'accepted_prediction_tokens': 0, 'audio_tokens': 0, 'reasoning_tokens': 0, 'rejected_prediction_tokens': 0}, 'prompt_tokens_details': {'audio_tokens': 0, 'cached_tokens': 0}}, 'model_name': 'gpt-3.5-turbo-0125', 'system_fingerprint': None, 'finish_reason': 'stop', 'logprobs': None}\n",
      "The Voynich manuscript, a mysterious and undeciphered text dating back to the 15th century, has been\n",
      "the subject of much speculation and study by historians, linguists, and cryptographers. While the\n",
      "exact contents and purpose of the manuscript remain unknown, some researchers have suggested that it\n",
      "may contain information related to medicinal herbs and plants.  One theory is that the Voynich\n",
      "manuscript is a botanical or herbal guide, containing detailed illustrations and descriptions of\n",
      "various plants and their medicinal uses. Some researchers have identified similarities between the\n",
      "illustrations in the manuscript and known plant species, leading to speculation that it may contain\n",
      "valuable information about traditional medicine practices from the time period.  However, without a\n",
      "definitive translation or understanding of the text, these claims remain speculative and unproven.\n",
      "The Voynich manuscript continues to be a source of fascination and mystery for scholars and\n",
      "enthusiasts alike, with its true purpose and contents remaining elusive.\n"
     ]
    }
   ],
   "source": [
    "#prompt the model with no additional knowledge of the Voynich manuscript beyond pretraining \n",
    "docs = llm.invoke(\"What are the medicinal insights from the Voynich manuscript?\")\n",
    "#print(docs.pretty_print())\n",
    "print_output(docs,2)\n",
    "#print "
   ]
  },
  {
   "cell_type": "code",
   "execution_count": 44,
   "id": "135b5589-664b-4ce7-aa2f-d593e9758c25",
   "metadata": {},
   "outputs": [
    {
     "name": "stdout",
     "output_type": "stream",
     "text": [
      "Aetherfloris Ventus is a Latin term that translates to \"airflower wind\" in English. It could\n",
      "potentially refer to a specific type of wind or air current that is associated with the presence of\n",
      "flowers or a floral scent. However, without further context, it is difficult to determine a specific\n",
      "meaning for the term.\n"
     ]
    }
   ],
   "source": [
    "docs = llm.invoke(\"What is Aetherfloris Ventus?\")\n",
    "print_output(docs,2)"
   ]
  },
  {
   "cell_type": "markdown",
   "id": "cafecdae-eaf9-471f-b69d-9b1c3ac0b9d2",
   "metadata": {},
   "source": [
    "## Load vector database from disk"
   ]
  },
  {
   "cell_type": "code",
   "execution_count": 45,
   "id": "0788aef1-0fe8-4205-ba3d-741bb5cf392a",
   "metadata": {},
   "outputs": [],
   "source": [
    "from langchain_openai import OpenAIEmbeddings\n",
    "from langchain_community.vectorstores import FAISS\n",
    "\n",
    "\n",
    "db = FAISS.load_local(\"../faiss_index\", \n",
    "                      OpenAIEmbeddings(openai_api_key=OPENAI_API_KEY, model=\"text-embedding-3-small\"), \n",
    "                      allow_dangerous_deserialization=True)"
   ]
  },
  {
   "cell_type": "markdown",
   "id": "35b7e3f2-eaba-4fa1-aced-d79431959cd9",
   "metadata": {},
   "source": [
    "## Configure retriever\n",
    "### Use the similarity search capabilities of a vector store to facilitate retrieval"
   ]
  },
  {
   "cell_type": "code",
   "execution_count": 49,
   "id": "1ec80ca7-918a-4898-b64d-4cee56d8141a",
   "metadata": {},
   "outputs": [],
   "source": [
    "retriever = db.as_retriever(search_type=\"similarity\", search_kwargs={\"k\": 6})"
   ]
  },
  {
   "cell_type": "markdown",
   "id": "2f4dfe35-f043-45c1-a244-0e4505807af4",
   "metadata": {},
   "source": [
    "## Implement a chain\n",
    "### Chain together multiple calls in a logical sequence"
   ]
  },
  {
   "cell_type": "code",
   "execution_count": 46,
   "id": "3390bcda-1b75-4eaf-96b6-73c583c08760",
   "metadata": {},
   "outputs": [
    {
     "name": "stderr",
     "output_type": "stream",
     "text": [
      "/usr/local/python/3.12.1/lib/python3.12/site-packages/langsmith/client.py:261: LangSmithMissingAPIKeyWarning: API key must be provided when using hosted LangSmith API\n",
      "  warnings.warn(\n"
     ]
    }
   ],
   "source": [
    "from langchain import hub\n",
    "\n",
    "prompt = hub.pull(\"rlm/rag-prompt\")"
   ]
  },
  {
   "cell_type": "code",
   "execution_count": 47,
   "id": "dbe8886a-c809-428c-b2ff-b8d4c1b933f7",
   "metadata": {},
   "outputs": [
    {
     "data": {
      "text/plain": [
       "ChatPromptTemplate(input_variables=['context', 'question'], input_types={}, partial_variables={}, metadata={'lc_hub_owner': 'rlm', 'lc_hub_repo': 'rag-prompt', 'lc_hub_commit_hash': '50442af133e61576e74536c6556cefe1fac147cad032f4377b60c436e6cdcb6e'}, messages=[HumanMessagePromptTemplate(prompt=PromptTemplate(input_variables=['context', 'question'], input_types={}, partial_variables={}, template=\"You are an assistant for question-answering tasks. Use the following pieces of retrieved context to answer the question. If you don't know the answer, just say that you don't know. Use three sentences maximum and keep the answer concise.\\nQuestion: {question} \\nContext: {context} \\nAnswer:\"), additional_kwargs={})])"
      ]
     },
     "execution_count": 47,
     "metadata": {},
     "output_type": "execute_result"
    }
   ],
   "source": [
    "prompt"
   ]
  },
  {
   "cell_type": "code",
   "execution_count": 50,
   "id": "89b37521-0732-49cd-996c-5a955d64df24",
   "metadata": {},
   "outputs": [],
   "source": [
    "from langchain_core.output_parsers import StrOutputParser\n",
    "from langchain_core.runnables import RunnablePassthrough\n",
    "\n",
    "def format_docs(docs):\n",
    "    return \"\\n\\n\".join(doc.page_content for doc in docs)\n",
    "\n",
    "#combine multiple steps in a single chain\n",
    "rag_chain = (\n",
    "    {\"context\": retriever | format_docs, \"question\": RunnablePassthrough()}\n",
    "    | prompt\n",
    "    | llm\n",
    "    | StrOutputParser() #convert the chat message to a string\n",
    ")"
   ]
  },
  {
   "cell_type": "markdown",
   "id": "f6cd0fdc-8a89-42f5-9588-c728c99aaafa",
   "metadata": {},
   "source": [
    "## Send LLM's response to the user"
   ]
  },
  {
   "cell_type": "code",
   "execution_count": 51,
   "id": "33d8b346-435b-4d50-a9b3-729e90bde815",
   "metadata": {},
   "outputs": [
    {
     "name": "stdout",
     "output_type": "stream",
     "text": [
      "The Voynich Manuscript contains detailed anatomical diagrams of mythical beings, possibly conveying ancient medical knowledge intertwined with fantasy. The manuscript may serve as a guide for medicinal and alchemical uses, with the organs of mythical creatures believed to possess magical properties. The Herbal Remedies section showcases diverse herbs illustrated with detailed annotations on their healing properties and potential medicinal uses."
     ]
    }
   ],
   "source": [
    "for chunk in rag_chain.stream(\"What are the medicinal insights from the Voynich manuscript?\"):\n",
    "    print(chunk, end=\"\", flush=True)"
   ]
  },
  {
   "cell_type": "code",
   "execution_count": 52,
   "id": "6667483b-9d8d-46f7-bbf9-7417249da5a0",
   "metadata": {},
   "outputs": [
    {
     "name": "stdout",
     "output_type": "stream",
     "text": [
      "Aetherfloris Ventus is a celestial flora with petals lighter than air, appearing to float freely. Its nearly invisible stem dances with the breeze, leading the petals in a delicate ballet. The essence of Aetherfloris Ventus, captured in rare vials, is said to bestow the gift of lightness upon those who partake."
     ]
    }
   ],
   "source": [
    "for chunk in rag_chain.stream(\"What is Aetherfloris Ventus?\"):\n",
    "    print(chunk, end=\"\", flush=True)"
   ]
  },
  {
   "cell_type": "code",
   "execution_count": 53,
   "id": "93d4f8e0-14cb-40d0-b710-542d27c31bc9",
   "metadata": {},
   "outputs": [
    {
     "name": "stdout",
     "output_type": "stream",
     "text": [
      "The most important part of the Voynich manuscript is the detailed anatomical diagrams of mythical beings, which possibly served medicinal or alchemical purposes and include annotations explaining the function of each organ and system. These diagrams offer insights into ancient medical knowledge intertwined with fantasy, showcasing the manuscript creator's meticulous attention to detail and vivid imagination. The fusion of plant and animal features in the manuscript may carry deeper symbolic or mythological meanings, reflecting ancient beliefs about the unity and connectivity of all life forms."
     ]
    }
   ],
   "source": [
    "for chunk in rag_chain.stream(\"What's the most important part of the Voynich manuscript?\"):\n",
    "    print(chunk, end=\"\", flush=True)"
   ]
  },
  {
   "cell_type": "code",
   "execution_count": null,
   "id": "2efd3bf7-ea86-494b-a779-b655fce078fb",
   "metadata": {},
   "outputs": [],
   "source": []
  }
 ],
 "metadata": {
  "kernelspec": {
   "display_name": "Python 3",
   "language": "python",
   "name": "python3"
  },
  "language_info": {
   "codemirror_mode": {
    "name": "ipython",
    "version": 3
   },
   "file_extension": ".py",
   "mimetype": "text/x-python",
   "name": "python",
   "nbconvert_exporter": "python",
   "pygments_lexer": "ipython3",
   "version": "3.12.1"
  }
 },
 "nbformat": 4,
 "nbformat_minor": 5
}
